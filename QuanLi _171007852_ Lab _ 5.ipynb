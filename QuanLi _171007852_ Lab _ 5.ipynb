{
 "cells": [
  {
   "cell_type": "markdown",
   "metadata": {},
   "source": [
    "<div class=\"alert alert-info\" role=\"alert\">\n",
    "    <center><h1 style=\"color:red;\"><strong>Econometrics 322 Lab #5</strong></h1></center><br>\n",
    "    <center><h2><strong><color:red>Extending OLS Regression</strong></h2></center><br>\n",
    "    <center><h3><strong>Prof. Paczkowski</strong></h3></center>\n",
    "</div>\n",
    "<br><br>\n",
    "<div class=\"alert alert-warning\" role=\"alert\">\n",
    "    <center><h1><strong>Enter your Name in the Next Cell</strong></h1></center>\n",
    "</div>\n"
   ]
  },
  {
   "cell_type": "markdown",
   "metadata": {},
   "source": [
    "Quan Li (RUID: 171007852)"
   ]
  },
  {
   "cell_type": "markdown",
   "metadata": {},
   "source": [
    "<div class=\"alert alert-info\" role=\"alert\">\n",
    "</div>"
   ]
  },
  {
   "cell_type": "markdown",
   "metadata": {},
   "source": [
    "## Grading Rubric\n",
    "\n",
    "<br>\n",
    "Score:_______________: Max(0, 20 - Total Deductions)\n",
    "<br><br>\n",
    "\n",
    "\n",
    "| Content Area | Deduction | Times Deducted | Check | Comments&emsp;&emsp;&emsp;&emsp;&emsp;&emsp;&emsp;&emsp;&emsp;&emsp;&emsp;&emsp;&emsp;&emsp;&emsp;&emsp;&emsp;&emsp;&emsp;&emsp;&emsp;&emsp;&emsp; |\n",
    "|:-----------------------------------------------------|:---------:||:------:|:-------------------------:|\n",
    "| Abstract                                             |           ||        |                           |\n",
    "| &emsp;Missing                                        | 5         ||[&emsp;]|                           |\n",
    "| &emsp;Insufficient/Wrong Focus                       | 1         ||[&emsp;]|                           |\n",
    "| Data Dictionary (Metadata)                           |           ||        |                           |\n",
    "| &emsp;Missing                                        | 5         ||[&emsp;]|                           |\n",
    "| &emsp;Insufficient/Wrong Form or Wording             | 1         ||[&emsp;]|                           |  \n",
    "| Graphs                                               |           ||        |                           |\n",
    "| &emsp;Missing                                        | 5         ||[&emsp;]|                           |\n",
    "| &emsp;Missing Title                                  | 1         ||[&emsp;]|                           |\n",
    "| &emsp;Missing/Wrong Labels                           | 1         ||[&emsp;]|                           |\n",
    "| Pre-Lab                                              |           ||        |                           |\n",
    "| &emsp;Missing                                        | 5         ||[&emsp;]|                           |\n",
    "| &emsp;Insufficient/Wrong Answer                      | 2 Each    ||[&emsp;]|                           |\n",
    "| &emsp;No/Incorrect/Insufficient Model Specification  | 2         ||[&emsp;]|                           |\n",
    "| &emsp;No/Incorrect Statistical Hypothesis Statement  | 2 Each    ||[&emsp;]|                           |\n",
    "| Post-Lab                                             |           ||        |                           |\n",
    "| &emsp;Missing                                        | 5         ||[&emsp;]|                           |\n",
    "| &emsp;Insufficient/Wrong Answer                      | 2 Each    ||[&emsp;]|                           |\n",
    "| Correlations                                         |           ||        |                           |\n",
    "| &emsp;Missing                                        | 5         ||[&emsp;]|                           |\n",
    "| &emsp;Insufficient/Wrong Analysis                    | 2         ||[&emsp;]|                           |\n",
    "| &emsp;Missing Graph                                  | 2         ||[&emsp;]|                           |\n",
    "| Estimations                                          |           ||        |                           |\n",
    "| &emsp;Missing                                        | 5         ||[&emsp;]|                           |\n",
    "| &emsp;No or incorrect discussion/interpretation of...|           ||        |                           |\n",
    "| &emsp;&emsp;Hypothesis tests and p-values            | 2 Each    ||[&emsp;]|                           |\n",
    "| &emsp;&emsp;$R^2$                                    | 2         ||[&emsp;]|                           |\n",
    "| &emsp;&emsp;F-Statistic                              | 2         ||[&emsp;]|                           |\n",
    "| &emsp;&emsp;Multicollinearity/VIF                    | 2         ||[&emsp;]|                           |\n",
    "| &emsp;&emsp;Heteroskedasticity/Test                  | 2         ||[&emsp;]|                           |\n",
    "| &emsp;&emsp;Autocorrelation/Test                     | 2         ||[&emsp;]|                           |\n",
    "| &emsp;No/insufficient model selection                | 2         ||[&emsp;]|                           |\n",
    "| Elasticities                                         |           ||        |                           |\n",
    "| &emsp;Missing                                        | 5         ||[&emsp;]|                           |\n",
    "| &emsp;Incorrect Interpretation                       | 2         ||[&emsp;]|                           |\n",
    "| &emsp;Missing Summary Table                          | 2         ||[&emsp;]|                           |\n",
    "| Model Portfolio                                      |           ||[&emsp;]|                           |\n",
    "| &emsp;Missing                                        | 5         ||[&emsp;]|                           |\n",
    "| General Comments:                                    |           ||        |                           |\n",
    "||||||\n",
    "||||||\n",
    "||||||"
   ]
  },
  {
   "cell_type": "markdown",
   "metadata": {},
   "source": [
    "## Contents\n",
    "\n",
    "1. [Collaboration Policy](#Collaboration-Policy)\n",
    "2. [Introduction](#Introduction)\n",
    "    1. [Purpose](#Purpose)\n",
    "    2. [Problem](#Problem)\n",
    "    3. [Assignment](#Assignment)\n",
    "3. [Documentation](#Documentation)\n",
    "    1. [Abstract](#Abstract)\n",
    "    2. [Data Dictionary](#Data-Dictionary)\n",
    "4. [Pre-lab Questions](#Pre-lab-Questions)\n",
    "5. [Tasks and Questions](#Tasks-and-Questions)\n",
    "6. [Post-lab Questions](#Post-lab-Questions)"
   ]
  },
  {
   "cell_type": "markdown",
   "metadata": {},
   "source": [
    "## Collaboration Policy\n",
    "\n",
    "[Back to Contents](#Contents)\n",
    "\n",
    "    1. Study groups are allowed but I expect students to understand and complete their own assignments and to hand in one \n",
    "    assignment per student.\n",
    "    2. If you worked in a group, please put the names of your study group in the following table.\n",
    "    3. Just like all other classes at Rutgers, the student Honor Code is taken seriously.\n",
    "    \n",
    "    The submitted assignment must be your work.\n",
    "    \n",
    "|Collaborator(s) Name(s) |\n",
    "|------------------------|\n",
    "|       name(s) here     |"
   ]
  },
  {
   "cell_type": "markdown",
   "metadata": {},
   "source": [
    "<div class=\"alert alert-info\" role=\"alert\">\n",
    "</div>"
   ]
  },
  {
   "cell_type": "markdown",
   "metadata": {},
   "source": [
    "## Introduction\n",
    "\n",
    "[Back to Contents](#Contents)"
   ]
  },
  {
   "cell_type": "markdown",
   "metadata": {},
   "source": [
    "### Purpose\n",
    "\n",
    "[Back to Contents](#Contents)\n",
    "\n",
    "The purpose of this lab is to introduce you to the application of the OLS methodology to an actual problem.\n",
    "\n",
    "At the end of this lab, you will be able to:\n",
    "\n",
    "1. specify a linear model for a problem;\n",
    "2. estimate a linear model in Statsmodel;\n",
    "3. interpret key statistics;\n",
    "4. identify shortcomings in the proposed linear model;\n",
    "5. summarize the regression output;\n",
    "6. estimate elasticities and judge their reasonableness;\n",
    "7. build a model portfolio."
   ]
  },
  {
   "cell_type": "markdown",
   "metadata": {},
   "source": [
    "### Problem\n",
    "\n",
    "[Back to Contents](#Contents)\n",
    "\n",
    "A few markets are key to the health of the economy. Autos and energy are two that most people would quickly cite. The housing market is another.  Housing data can be divided into housing permits, housing starts, new home sales, and existing home sales. In addition, housing can be viewed as single family or multifamily.\n",
    "\n",
    "Existing home sales (as well as new home sales) are dependent on the future, expected state of the economy. For the future state, if there is a concern that the economy will go into a recession soon, people will be less willing to buy a new home for fear of losing their job, so housing sales will be weak or decline. But if the economy looks promising, then housing sales will be strong or increase.\n",
    "\n",
    "Another factor important for the decision to buy a new home is the current mortgage rate or yield. Usually, people get a fixed rate which means they will be paying that same rate for many years, often 30 years. In essence, the mortgage rate adds to the price of a home.\n",
    "\n",
    "In this lab, you will estimate a model to explain home sales as a function of the mortgage yield."
   ]
  },
  {
   "cell_type": "markdown",
   "metadata": {},
   "source": [
    "### Assignment\n",
    "\n",
    "[Back to Contents](#Contents)\n",
    "\n",
    "Locate annual data for U.S. New Houses Sold and New-home Mortgage Yields. I suggest using the following:\n",
    "\n",
    "1. *Economic Report of the President: 2013*, \"Table B–56. New private housing units started, authorized, and completed and houses sold\".  Use the \"New houses sold\" column.\n",
    "    \n",
    "2. *Economic Report of the President: 2013*, \"Table B–73. Bond yields and interest rates\".  Use the \"New home mortgage yields\" column.\n"
   ]
  },
  {
   "cell_type": "markdown",
   "metadata": {},
   "source": [
    "<div class=\"alert alert-info\" role=\"alert\">\n",
    "</div>"
   ]
  },
  {
   "cell_type": "markdown",
   "metadata": {},
   "source": [
    "## Documentation\n",
    "\n",
    "[Back to Contents](#Contents)"
   ]
  },
  {
   "cell_type": "markdown",
   "metadata": {},
   "source": [
    "### Abstract\n",
    "\n",
    "[Back to Contents](#Contents)"
   ]
  },
  {
   "cell_type": "markdown",
   "metadata": {},
   "source": [
    "*Enter your Abstract in this cell*"
   ]
  },
  {
   "cell_type": "markdown",
   "metadata": {},
   "source": [
    "\n",
    "\n",
    "[Back to Contents](#Contents)"
   ]
  },
  {
   "cell_type": "markdown",
   "metadata": {},
   "source": [
    "| Variable | Values   | Source | Mnemonic |\n",
    "|----------|----------|--------|---------|\n",
    "|  New- home  mortgage  yields | Percent per annum | Economic Report of the President, 2013 | yld|\n",
    "|  New  houses  sold | Thousands | Economic Report of the President, 2013 | hSold |"
   ]
  },
  {
   "cell_type": "markdown",
   "metadata": {},
   "source": [
    "<div class=\"alert alert-info\" role=\"alert\">\n",
    "</div>"
   ]
  },
  {
   "cell_type": "markdown",
   "metadata": {},
   "source": [
    "## Pre-lab Questions\n",
    "\n",
    "[Back to Contents](#Contents)\n",
    "\n",
    "Before you do any work, please think about the relationship among these macro variables. In particular, think how you would answer the following if called on in class."
   ]
  },
  {
   "cell_type": "markdown",
   "metadata": {},
   "source": [
    "### What type of data is this and why (i.e., source and domain)?"
   ]
  },
  {
   "cell_type": "markdown",
   "metadata": {},
   "source": [
    "The data that I am using for this lab is secondary source. It was collected by Executive Office of the President Council of Economic Advisers. This data is a time series. It was collected on one unit, the United States, from 1967 to 2012."
   ]
  },
  {
   "cell_type": "markdown",
   "metadata": {},
   "source": [
    "### What is the mortgage yield?  Do not tell me that it's the yield on mortgage backed securities.  Think about the problem and then answer this question."
   ]
  },
  {
   "cell_type": "markdown",
   "metadata": {},
   "source": [
    "According to Investopedia*, \"yield is the annual net profit that an investor earns on an investment.\" Mortgage yield directly reflect the mortgage rate, or how much interest is earned off of mortgages.\n",
    "\n",
    "*https://www.investopedia.com/ask/answers/09/difference-between-yields-and-interest-rate.asp"
   ]
  },
  {
   "cell_type": "markdown",
   "metadata": {},
   "source": [
    "### How should mortgage yields or rates affect housing?  Positively?  Negatively? Explain."
   ]
  },
  {
   "cell_type": "markdown",
   "metadata": {},
   "source": [
    "At higher mortgage yields, the interest paid is also higher. Potential house buyers are less willing to buy if the mortgage interest rates are high. Higher mortgage yields lead to lower home sales. Therefore, mortgage yields affect housing negatively."
   ]
  },
  {
   "cell_type": "markdown",
   "metadata": {},
   "source": [
    "### In general, how do you think the housing market has behaved over the past, say, decade?  Explain."
   ]
  },
  {
   "cell_type": "markdown",
   "metadata": {},
   "source": [
    "I think the housing market has been in a period of expension. During the housing crisis in 2008, the housing market crashed. However, during the last 10 years the market is making a recovery, growing from a historic low point. "
   ]
  },
  {
   "cell_type": "markdown",
   "metadata": {},
   "source": [
    "### Write a tentative <u>specific</u> model.  Explain your model."
   ]
  },
  {
   "cell_type": "markdown",
   "metadata": {},
   "source": [
    "My tentative linear model is this:\n",
    "\\\\[\n",
    "    hSold = \\beta_0 + \\beta_1 yld + \\epsilon\n",
    "\\\\]\n",
    "<br>\n",
    "Where $\\epsilon$ is the disturbance, and $\\epsilon \\sim N(0; \\sigma^2)$.\n",
    "\n",
    "This represent the housing market as a function of mortgage rates. "
   ]
  },
  {
   "cell_type": "markdown",
   "metadata": {},
   "source": [
    "### What is a good testable hypothesis?  Explain your testable hypothesis."
   ]
  },
  {
   "cell_type": "markdown",
   "metadata": {},
   "source": [
    "My hypothesis would be that the mortgage bond yields would have a negative correlation with number of houses baught. An increase in mortgage bond yield is a major indicator of an increase in mortgage interest rate. This an additional cost to house buyers. "
   ]
  },
  {
   "cell_type": "markdown",
   "metadata": {},
   "source": [
    "### Write the statistical hypothesis to go along with your testable hypothesis.  Explain what you wrote."
   ]
  },
  {
   "cell_type": "markdown",
   "metadata": {},
   "source": [
    "\\\\[\n",
    "    H_0 : \\beta_1 = 0 \\\\\n",
    "    H_A : \\beta_1 < 0\n",
    "\\\\]\n",
    "Null hypothesis: there is no correlation between yld and hSold <br>\n",
    "\n",
    "Alternative Hypothesis: there is a negative correlation between yld and hSold"
   ]
  },
  {
   "cell_type": "markdown",
   "metadata": {},
   "source": [
    "<div class=\"alert alert-info\" role=\"alert\">\n",
    "</div>"
   ]
  },
  {
   "cell_type": "markdown",
   "metadata": {},
   "source": [
    "## Tasks and Questions\n",
    "\n",
    "[Back to Contents](#Contents)"
   ]
  },
  {
   "cell_type": "markdown",
   "metadata": {},
   "source": [
    "### Load the Pandas, Seaborn, and Statsmodels packages and give them aliases.  You will also need the Statsmodels formula API for formulas.  Please see Lesson \\#4 for examples."
   ]
  },
  {
   "cell_type": "code",
   "execution_count": 60,
   "metadata": {},
   "outputs": [],
   "source": [
    "import pandas as pd\n",
    "import matplotlib.pyplot as plt\n",
    "%matplotlib inline\n",
    "\n",
    "import statsmodels.api as sm\n",
    "import statsmodels.formula.api as smf \n",
    "from statsmodels.iolib.summary2 import summary_col\n",
    "\n",
    "import matplotlib.pyplot as plt\n",
    "import seaborn as sns\n",
    "sns.set( )\n",
    "sns.set_style(  )\n",
    "\n",
    "import numpy as np\n"
   ]
  },
  {
   "cell_type": "markdown",
   "metadata": {},
   "source": [
    "### Import the data.  Set the row index to the years."
   ]
  },
  {
   "cell_type": "code",
   "execution_count": 99,
   "metadata": {},
   "outputs": [],
   "source": [
    "df_sales = pd.read_csv( \"ERP-2013-table56.csv\", parse_dates = [ 'Year' ] )\n",
    "df_sales.set_index( 'Year', inplace = True )\n",
    "\n",
    "df_mort = pd.read_csv( \"ERP-2013-table73.csv\", parse_dates = [ 'Year' ] )\n",
    "df_mort.set_index( 'Year', inplace = True )\n",
    "\n",
    "df = pd.merge( df_mort, df_sales, left_index = True, right_index = True, how = 'inner' )"
   ]
  },
  {
   "cell_type": "code",
   "execution_count": null,
   "metadata": {},
   "outputs": [],
   "source": []
  },
  {
   "cell_type": "code",
   "execution_count": null,
   "metadata": {},
   "outputs": [],
   "source": []
  },
  {
   "cell_type": "code",
   "execution_count": null,
   "metadata": {},
   "outputs": [],
   "source": []
  },
  {
   "cell_type": "code",
   "execution_count": null,
   "metadata": {},
   "outputs": [],
   "source": []
  },
  {
   "cell_type": "markdown",
   "metadata": {},
   "source": [
    "### Print the first five (5) records."
   ]
  },
  {
   "cell_type": "code",
   "execution_count": 102,
   "metadata": {},
   "outputs": [
    {
     "data": {
      "text/html": [
       "<div>\n",
       "<style scoped>\n",
       "    .dataframe tbody tr th:only-of-type {\n",
       "        vertical-align: middle;\n",
       "    }\n",
       "\n",
       "    .dataframe tbody tr th {\n",
       "        vertical-align: top;\n",
       "    }\n",
       "\n",
       "    .dataframe thead th {\n",
       "        text-align: right;\n",
       "    }\n",
       "</style>\n",
       "<table border=\"1\" class=\"dataframe\">\n",
       "  <thead>\n",
       "    <tr style=\"text-align: right;\">\n",
       "      <th></th>\n",
       "      <th>New- home  mortgage  yields</th>\n",
       "      <th>New  houses  sold</th>\n",
       "    </tr>\n",
       "    <tr>\n",
       "      <th>Year</th>\n",
       "      <th></th>\n",
       "      <th></th>\n",
       "    </tr>\n",
       "  </thead>\n",
       "  <tbody>\n",
       "    <tr>\n",
       "      <th>1967-01-01</th>\n",
       "      <td>6.46</td>\n",
       "      <td>487</td>\n",
       "    </tr>\n",
       "    <tr>\n",
       "      <th>1968-01-01</th>\n",
       "      <td>6.97</td>\n",
       "      <td>490</td>\n",
       "    </tr>\n",
       "    <tr>\n",
       "      <th>1969-01-01</th>\n",
       "      <td>7.81</td>\n",
       "      <td>448</td>\n",
       "    </tr>\n",
       "    <tr>\n",
       "      <th>1970-01-01</th>\n",
       "      <td>8.45</td>\n",
       "      <td>485</td>\n",
       "    </tr>\n",
       "    <tr>\n",
       "      <th>1971-01-01</th>\n",
       "      <td>7.74</td>\n",
       "      <td>656</td>\n",
       "    </tr>\n",
       "  </tbody>\n",
       "</table>\n",
       "</div>"
      ],
      "text/plain": [
       "            New- home  mortgage  yields  New  houses  sold\n",
       "Year                                                      \n",
       "1967-01-01                         6.46                487\n",
       "1968-01-01                         6.97                490\n",
       "1969-01-01                         7.81                448\n",
       "1970-01-01                         8.45                485\n",
       "1971-01-01                         7.74                656"
      ]
     },
     "execution_count": 102,
     "metadata": {},
     "output_type": "execute_result"
    }
   ],
   "source": [
    "df.head()"
   ]
  },
  {
   "cell_type": "code",
   "execution_count": 112,
   "metadata": {},
   "outputs": [
    {
     "data": {
      "text/html": [
       "<div>\n",
       "<style scoped>\n",
       "    .dataframe tbody tr th:only-of-type {\n",
       "        vertical-align: middle;\n",
       "    }\n",
       "\n",
       "    .dataframe tbody tr th {\n",
       "        vertical-align: top;\n",
       "    }\n",
       "\n",
       "    .dataframe thead th {\n",
       "        text-align: right;\n",
       "    }\n",
       "</style>\n",
       "<table border=\"1\" class=\"dataframe\">\n",
       "  <thead>\n",
       "    <tr style=\"text-align: right;\">\n",
       "      <th></th>\n",
       "      <th>yld</th>\n",
       "      <th>hSold</th>\n",
       "    </tr>\n",
       "    <tr>\n",
       "      <th>Year</th>\n",
       "      <th></th>\n",
       "      <th></th>\n",
       "    </tr>\n",
       "  </thead>\n",
       "  <tbody>\n",
       "    <tr>\n",
       "      <th>1967-01-01</th>\n",
       "      <td>6.46</td>\n",
       "      <td>487</td>\n",
       "    </tr>\n",
       "    <tr>\n",
       "      <th>1968-01-01</th>\n",
       "      <td>6.97</td>\n",
       "      <td>490</td>\n",
       "    </tr>\n",
       "    <tr>\n",
       "      <th>1969-01-01</th>\n",
       "      <td>7.81</td>\n",
       "      <td>448</td>\n",
       "    </tr>\n",
       "    <tr>\n",
       "      <th>1970-01-01</th>\n",
       "      <td>8.45</td>\n",
       "      <td>485</td>\n",
       "    </tr>\n",
       "    <tr>\n",
       "      <th>1971-01-01</th>\n",
       "      <td>7.74</td>\n",
       "      <td>656</td>\n",
       "    </tr>\n",
       "  </tbody>\n",
       "</table>\n",
       "</div>"
      ],
      "text/plain": [
       "             yld  hSold\n",
       "Year                   \n",
       "1967-01-01  6.46    487\n",
       "1968-01-01  6.97    490\n",
       "1969-01-01  7.81    448\n",
       "1970-01-01  8.45    485\n",
       "1971-01-01  7.74    656"
      ]
     },
     "execution_count": 112,
     "metadata": {},
     "output_type": "execute_result"
    }
   ],
   "source": [
    "## rename the columns\n",
    "df.columns = ['yld', 'hSold']\n",
    "df.head()"
   ]
  },
  {
   "cell_type": "markdown",
   "metadata": {},
   "source": [
    "### Graph the data."
   ]
  },
  {
   "cell_type": "code",
   "execution_count": 104,
   "metadata": {},
   "outputs": [
    {
     "data": {
      "text/plain": [
       "[Text(0.5, 1.0, 'Mortgage Bond Yield by Year'),\n",
       " Text(0.5, 0, 'Year'),\n",
       " Text(0, 0.5, 'Yield (%)')]"
      ]
     },
     "execution_count": 104,
     "metadata": {},
     "output_type": "execute_result"
    },
    {
     "data": {
      "image/png": "[encoded data removed]",
      "text/plain": [
       "<Figure size 432x288 with 1 Axes>"
      ]
     },
     "metadata": {},
     "output_type": "display_data"
    }
   ],
   "source": [
    "##line plot of Mortgage Bond Yield\n",
    "ax = sns.lineplot( y = 'yld', x = df.index, data = df )\n",
    "ax.set( title = 'Mortgage Bond Yield by Year', xlabel = 'Year', ylabel = 'Yield (%)' )"
   ]
  },
  {
   "cell_type": "code",
   "execution_count": 114,
   "metadata": {},
   "outputs": [
    {
     "data": {
      "image/png": "[encoded data removed]",
      "text/plain": [
       "<Figure size 432x288 with 1 Axes>"
      ]
     },
     "metadata": {},
     "output_type": "display_data"
    }
   ],
   "source": [
    "## lineplot of Houses Sold\n",
    "ax = sns.lineplot(y = 'hSold', x = df.index, data = df)\n",
    "ax.set( title = 'Houses Sold by Year', xlabel = 'Year', ylabel = 'Houses Sold (thousands)' );"
   ]
  },
  {
   "cell_type": "code",
   "execution_count": null,
   "metadata": {},
   "outputs": [],
   "source": []
  },
  {
   "cell_type": "code",
   "execution_count": null,
   "metadata": {},
   "outputs": [],
   "source": []
  },
  {
   "cell_type": "code",
   "execution_count": 123,
   "metadata": {},
   "outputs": [
    {
     "data": {
      "image/png": "[encoded data removed]",
      "text/plain": [
       "<Figure size 360x360 with 1 Axes>"
      ]
     },
     "metadata": {},
     "output_type": "display_data"
    }
   ],
   "source": [
    "## scatterplot of hSold and yields \n",
    "ax = sns.relplot( x = 'yld', y = 'hSold', data = df )\n",
    "ax.set( xlabel = 'Mortgage Annual Yield (%)', ylabel = 'Houses Sold (Thousands)', title = 'Housing Market vs Mortage Bond Yields' );"
   ]
  },
  {
   "cell_type": "markdown",
   "metadata": {},
   "source": [
    "### When we build a regression model, we say we regress the dependent variable on the independent variable(s). For this lab, you will regress sales on yield.  Estimate an OLS model using sales as the dependent variable and yield as the independent variable.  Display the summary report."
   ]
  },
  {
   "cell_type": "code",
   "execution_count": 117,
   "metadata": {},
   "outputs": [
    {
     "name": "stdout",
     "output_type": "stream",
     "text": [
      "                            OLS Regression Results                            \n",
      "==============================================================================\n",
      "Dep. Variable:                  hSold   R-squared:                       0.034\n",
      "Model:                            OLS   Adj. R-squared:                  0.012\n",
      "Method:                 Least Squares   F-statistic:                     1.542\n",
      "Date:                Sun, 28 Mar 2021   Prob (F-statistic):              0.221\n",
      "Time:                        16:11:05   Log-Likelihood:                -312.24\n",
      "No. Observations:                  46   AIC:                             628.5\n",
      "Df Residuals:                      44   BIC:                             632.1\n",
      "Df Model:                           1                                         \n",
      "Covariance Type:            nonrobust                                         \n",
      "==============================================================================\n",
      "                 coef    std err          t      P>|t|      [0.025      0.975]\n",
      "------------------------------------------------------------------------------\n",
      "Intercept    810.8574    113.863      7.121      0.000     581.381    1040.333\n",
      "yld          -16.3002     13.125     -1.242      0.221     -42.753      10.152\n",
      "==============================================================================\n",
      "Omnibus:                        1.542   Durbin-Watson:                   0.222\n",
      "Prob(Omnibus):                  0.463   Jarque-Bera (JB):                0.836\n",
      "Skew:                           0.301   Prob(JB):                        0.658\n",
      "Kurtosis:                       3.272   Cond. No.                         30.9\n",
      "==============================================================================\n",
      "\n",
      "Notes:\n",
      "[1] Standard Errors assume that the covariance matrix of the errors is correctly specified.\n"
     ]
    }
   ],
   "source": [
    "formula = 'hSold ~ yld'\n",
    "mod = smf.ols( formula, data = df )\n",
    "reg01 = mod.fit() \n",
    "print( reg01.summary() )\n"
   ]
  },
  {
   "cell_type": "markdown",
   "metadata": {},
   "source": [
    "### Retrieve and display the estimated parameters."
   ]
  },
  {
   "cell_type": "code",
   "execution_count": 118,
   "metadata": {},
   "outputs": [
    {
     "name": "stdout",
     "output_type": "stream",
     "text": [
      "Estimated parameters:\n",
      "Intercept    810.857373\n",
      "yld          -16.300155\n",
      "dtype: float64\n"
     ]
    }
   ],
   "source": [
    "print( 'Estimated parameters:\\n{}'.format( reg01.params ) ) \n"
   ]
  },
  {
   "cell_type": "markdown",
   "metadata": {},
   "source": [
    "### Estimate a yield elasticity."
   ]
  },
  {
   "cell_type": "code",
   "execution_count": 120,
   "metadata": {},
   "outputs": [
    {
     "name": "stdout",
     "output_type": "stream",
     "text": [
      "eta =  -0.2008\n"
     ]
    }
   ],
   "source": [
    "dYdX = reg01.params[ 1 ]\n",
    "eta = dYdX * ( df.yld.mean()/df.hSold.mean() )\n",
    "print( 'eta = ', round( eta, 4 ) )"
   ]
  },
  {
   "cell_type": "markdown",
   "metadata": {},
   "source": [
    "### Build a Model Portfolio."
   ]
  },
  {
   "cell_type": "code",
   "execution_count": 122,
   "metadata": {},
   "outputs": [
    {
     "name": "stdout",
     "output_type": "stream",
     "text": [
      "\n",
      "======================================\n",
      "                 hSold I     hSold II \n",
      "--------------------------------------\n",
      "Intercept      810.8574*** 675.2826***\n",
      "               (113.8631)  (32.5520)  \n",
      "R-squared      0.0339      0.0000     \n",
      "R-squared Adj. 0.0119      0.0000     \n",
      "yld            -16.3002               \n",
      "               (13.1253)              \n",
      "n              46          46         \n",
      "R2             0.034       0.000      \n",
      "======================================\n",
      "Standard errors in parentheses.\n",
      "* p<.1, ** p<.05, ***p<.01\n"
     ]
    }
   ],
   "source": [
    "formula = 'hSold ~ 1'\n",
    "mod02 = smf.ols( formula, data = df )\n",
    "reg02 = mod02.fit()\n",
    "print(summary_col( [ reg01, reg02 ], \n",
    "            stars = True, \n",
    "            info_dict = {'n': lambda x: \"{0:d}\".format( int( x.nobs )),\n",
    "                        'R2': lambda x: \"{:0.3f}\".format( x.rsquared ),\n",
    "}))"
   ]
  },
  {
   "cell_type": "markdown",
   "metadata": {},
   "source": [
    "<div class=\"alert alert-info\" role=\"alert\">\n",
    "</div>"
   ]
  },
  {
   "cell_type": "markdown",
   "metadata": {},
   "source": [
    "## Post-lab Questions\n",
    "\n",
    "[Back to Contents](#Contents)"
   ]
  },
  {
   "cell_type": "markdown",
   "metadata": {},
   "source": [
    "### What is the relationship between home sales and mortgage yields? Is this the relationship you expected?  Plot the data as part of your analysis."
   ]
  },
  {
   "cell_type": "markdown",
   "metadata": {},
   "source": [
    "I see a weak, negative correlation between mortgage yields and the how sales. This is exactly what I expected. I hypothesized that there is a negative correlation because higher mortgage yields means higher mortgage rates and that can disuade potention home buyers. However, there are other factors that would influence both in the same direction at the same time, such as overall economic activity or new housing policies. "
   ]
  },
  {
   "cell_type": "code",
   "execution_count": 124,
   "metadata": {},
   "outputs": [
    {
     "data": {
      "image/png": "[encoded data removed]",
      "text/plain": [
       "<Figure size 360x360 with 1 Axes>"
      ]
     },
     "metadata": {},
     "output_type": "display_data"
    }
   ],
   "source": [
    "## scatterplot of hSold and yields \n",
    "ax = sns.relplot( x = 'yld', y = 'hSold', data = df )\n",
    "ax.set( xlabel = 'Mortgage Annual Yield (%)', ylabel = 'Houses Sold (Thousands)', title = 'Housing Market vs Mortage Bond Yields' );"
   ]
  },
  {
   "cell_type": "markdown",
   "metadata": {},
   "source": [
    "### Test your statistical hypothesis about the effect of mortgage rates on new home sales.   What do you conclude?"
   ]
  },
  {
   "cell_type": "markdown",
   "metadata": {},
   "source": [
    "The mortgage rates reduces "
   ]
  },
  {
   "cell_type": "markdown",
   "metadata": {},
   "source": [
    "### Interpret the $R^{2}$ from the regression output. What does it say about your model?"
   ]
  },
  {
   "cell_type": "markdown",
   "metadata": {},
   "source": [
    "$R^{2}$ is only 0.034. This means only 3.4% of the data fits the model. The model is very weak for this set of data. "
   ]
  },
  {
   "cell_type": "markdown",
   "metadata": {},
   "source": [
    "### How can you make the model better?  What additional variables can you think of that should be included? Defend your answer."
   ]
  },
  {
   "cell_type": "markdown",
   "metadata": {},
   "source": [
    "I would eliminate certain outliers such as the period around 2008. This would reduce variance in the model. I think I would include inflation rates. If inflation rate is high, the people will be more likely to invest in non-liquid assets such as real estates."
   ]
  },
  {
   "cell_type": "markdown",
   "metadata": {},
   "source": [
    "### Interpret the F-statistic from the regression output.  What hypothesis does it test?  What do you conclude about your model based on the F-statistic?"
   ]
  },
  {
   "cell_type": "markdown",
   "metadata": {},
   "source": [
    "Answer"
   ]
  },
  {
   "cell_type": "markdown",
   "metadata": {},
   "source": [
    "### Are existing home sales elastic or inelastic with respect to the mortgage yield?  Does this make sense?  Is it what you expect? Defend your answer.  Suppose there is a 1\\% increase in mortgage rates. How much do home sales change in percentage terms?"
   ]
  },
  {
   "cell_type": "markdown",
   "metadata": {},
   "source": [
    "Existing home sales are inelastice with respect to the mortgage yield. This makes sense as there are many other factor influence home sales other than mortgage rate. If there is a 1% increase in mortgage rates, there would be a 0.2% decrease in home sales. "
   ]
  },
  {
   "cell_type": "markdown",
   "metadata": {},
   "source": [
    "### What is the practical significance of your model? In other words, what can this be used for, it for anything at all? How would you answer the question: \"*So what?*\" Defend your answer."
   ]
  },
  {
   "cell_type": "markdown",
   "metadata": {},
   "source": [
    "One practial use of this model would be to help conclude when to buy a home or put your house on the market. Putting your real estate on the market during lower mortgage yields amy result in a faster sale. While buying a home during lower mortgage yield may face higher overall prices from higher demands. "
   ]
  },
  {
   "cell_type": "markdown",
   "metadata": {},
   "source": [
    "<div class=\"alert alert-success\" role=\"alert\">\n",
    "  <center><h4 class=\"alert-heading\">Well done!</h4></center><br>\n",
    "  <center>Make sure your name is on this notebook at the top and on the file.</center>\n",
    "  <center>Please submit this notebook as a PDF file.  Nothing else will be accepted.</center>\n",
    "</div>"
   ]
  },
  {
   "cell_type": "code",
   "execution_count": null,
   "metadata": {},
   "outputs": [],
   "source": []
  }
 ],
 "metadata": {
  "kernelspec": {
   "display_name": "Python 3",
   "language": "python",
   "name": "python3"
  },
  "language_info": {
   "codemirror_mode": {
    "name": "ipython",
    "version": 3
   },
   "file_extension": ".py",
   "mimetype": "text/x-python",
   "name": "python",
   "nbconvert_exporter": "python",
   "pygments_lexer": "ipython3",
   "version": "3.8.5"
  }
 },
 "nbformat": 4,
 "nbformat_minor": 2
}
